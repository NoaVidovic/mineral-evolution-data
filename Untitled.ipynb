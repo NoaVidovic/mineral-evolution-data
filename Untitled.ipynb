{
 "cells": [
  {
   "cell_type": "code",
   "execution_count": 1,
   "id": "93ee6954",
   "metadata": {},
   "outputs": [],
   "source": [
    "import pymongo\n",
    "import pandas as pd"
   ]
  },
  {
   "cell_type": "code",
   "execution_count": 4,
   "id": "6a3dc0e7",
   "metadata": {},
   "outputs": [
    {
     "data": {
      "text/plain": [
       "{'_id': ObjectId('62b7b23ce5668a37db20fba0'),\n",
       " 'mineral_name': 'Abellaite',\n",
       " 'mineral_name_plain': 'Abellaite',\n",
       " 'mineral_name_html': 'Abellaite',\n",
       " 'rruff_chemistry_plain': 'NaPb2+2(CO3)2(OH)',\n",
       " 'ima_chemistry_plain': 'NaPb2(CO3)2(OH)',\n",
       " 'rruff_chemistry_concise': 'NaPb^2+^_2_(CO_3_)_2_(OH)',\n",
       " 'ima_chemistry_concise': 'NaPb_2_(CO_3_)_2_(OH)',\n",
       " 'rruff_chemistry_html': 'NaPb<sup>2+</sup><sub>2</sub>(CO<sub>3</sub>)<sub>2</sub>(OH)',\n",
       " 'ima_chemistry_html': 'NaPb<sub>2</sub>(CO<sub>3</sub>)<sub>2</sub>(OH)',\n",
       " 'chemistry_elements': ['Na', 'Pb', 'C', 'O', 'H'],\n",
       " 'ima_number': 'IMA2014-111',\n",
       " 'rruff_ids': [''],\n",
       " 'database_id': 6482,\n",
       " 'country_of_type_locality': ['Spain'],\n",
       " 'year_first_published': 2014,\n",
       " 'ima_status': ['Approved'],\n",
       " 'structural_groupname': 'Not in a structural group',\n",
       " 'fleischers_groupname': '\\xa0',\n",
       " 'status_notes': 'Ibáñez-Insa J, Elvira J J, Llovet X, Pérez-Cano J, Oriols N, Busquets-Masó M, Hernández S (2017) Abellaite, NaPb_2_(CO_3_)_2_(OH), a new supergene mineral from the Eureka mine, Lleida province, Catalonia, Spain. European Journal of Mineralogy 29, 915-922',\n",
       " 'crystal_systems': ['hexagonal'],\n",
       " 'oldest_known_age_ma': '370',\n",
       " 'valence_elements': ['Na', 'Pb^2+', 'C', 'O', 'H'],\n",
       " 'ima_mineral_symbol': 'Abe',\n",
       " 'stages': ['0', '1', '2', '3a', '3b', '4a', '4b', '5', '7', '10a', '10b'],\n",
       " 'pgm': ['p47a', 'p47c']}"
      ]
     },
     "execution_count": 4,
     "metadata": {},
     "output_type": "execute_result"
    }
   ],
   "source": [
    "client = pymongo.MongoClient('localhost', 27017)\n",
    "db = client.mineral_db\n",
    "db.mineral_coll.find_one()"
   ]
  },
  {
   "cell_type": "code",
   "execution_count": 11,
   "id": "3fe44700",
   "metadata": {},
   "outputs": [
    {
     "data": {
      "text/plain": [
       "{'_id': ObjectId('62b7b23ce5668a37db20fba1'),\n",
       " 'mineral_name': 'Abelsonite',\n",
       " 'mineral_name_plain': 'Abelsonite',\n",
       " 'mineral_name_html': 'Abelsonite',\n",
       " 'rruff_chemistry_plain': 'Ni2+C31H32N4',\n",
       " 'ima_chemistry_plain': 'NiC31H32N4',\n",
       " 'rruff_chemistry_concise': 'Ni^2+^C_31_H_32_N_4_',\n",
       " 'ima_chemistry_concise': 'NiC_31_H_32_N_4_',\n",
       " 'rruff_chemistry_html': 'Ni<sup>2+</sup>C<sub>31</sub>H<sub>32</sub>N<sub>4</sub>',\n",
       " 'ima_chemistry_html': 'NiC<sub>31</sub>H<sub>32</sub>N<sub>4</sub>',\n",
       " 'chemistry_elements': ['Ni', 'C', 'H', 'N'],\n",
       " 'ima_number': 'IMA1975-013',\n",
       " 'rruff_ids': ['R070007'],\n",
       " 'database_id': 777,\n",
       " 'country_of_type_locality': ['USA'],\n",
       " 'year_first_published': 1975,\n",
       " 'ima_status': ['Approved'],\n",
       " 'structural_groupname': 'Not in a structural group',\n",
       " 'fleischers_groupname': '\\xa0',\n",
       " 'status_notes': 'Milton C, Dwornik E J, Estep-Barnes P A, Finkelman R B, Pabst A, Palmer S (1978) Abelsonite, nickel porphyrin, a new mineral from the Green River Formation, Utah, American Mineralogist 63, 930-937',\n",
       " 'crystal_systems': ['triclinic'],\n",
       " 'oldest_known_age_ma': '56',\n",
       " 'valence_elements': ['Ni^2+', 'C', 'H', 'N'],\n",
       " 'ima_mineral_symbol': 'Abl',\n",
       " 'stages': ['0', '1', '2', '3a', '3b', '4a', '4b', '5', '7', '10a', '10b'],\n",
       " 'pgm': ['p47c', 'p50']}"
      ]
     },
     "execution_count": 11,
     "metadata": {},
     "output_type": "execute_result"
    }
   ],
   "source": [
    "db.mineral_coll.find_one({'mineral_name': 'Abelsonite'})"
   ]
  },
  {
   "cell_type": "code",
   "execution_count": null,
   "id": "45dff972",
   "metadata": {},
   "outputs": [],
   "source": []
  }
 ],
 "metadata": {
  "kernelspec": {
   "display_name": "Python 3 (ipykernel)",
   "language": "python",
   "name": "python3"
  },
  "language_info": {
   "codemirror_mode": {
    "name": "ipython",
    "version": 3
   },
   "file_extension": ".py",
   "mimetype": "text/x-python",
   "name": "python",
   "nbconvert_exporter": "python",
   "pygments_lexer": "ipython3",
   "version": "3.8.8"
  }
 },
 "nbformat": 4,
 "nbformat_minor": 5
}
